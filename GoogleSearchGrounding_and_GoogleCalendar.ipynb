{
  "nbformat": 4,
  "nbformat_minor": 0,
  "metadata": {
    "colab": {
      "provenance": []
    },
    "kernelspec": {
      "name": "python3",
      "display_name": "Python 3"
    },
    "language_info": {
      "name": "python"
    }
  },
  "cells": [
    {
      "cell_type": "code",
      "source": [
        "!pip install -qU google-genai langchain langchain_community langchain-google-community langchain-google-genai google-api-python-client google-auth google-auth-oauthlib\n"
      ],
      "metadata": {
        "id": "I5b_aLA-7BcB"
      },
      "execution_count": null,
      "outputs": []
    },
    {
      "cell_type": "code",
      "source": [
        "import os\n",
        "from google import genai\n",
        "from google.genai import types\n",
        "from google.auth.transport.requests import Request\n",
        "from google.oauth2 import service_account\n",
        "from googleapiclient.discovery import build\n",
        "from IPython.display import Markdown, display\n",
        "from langchain.tools import tool\n",
        "from langchain_google_community import GoogleSearchAPIWrapper\n"
      ],
      "metadata": {
        "id": "7LKEAWZa7IP-"
      },
      "execution_count": null,
      "outputs": []
    },
    {
      "cell_type": "code",
      "source": [
        "# Set API key\n",
        "GOOGLE_API_KEY = os.getenv(\"GOOGLE_API_KEY\")\n",
        "if not GOOGLE_API_KEY:\n",
        "    GOOGLE_API_KEY = input(\"Please enter your Google API key: \")\n",
        "\n",
        "if not GOOGLE_API_KEY:\n",
        "    raise ValueError(\"Google API key not found.\")\n",
        "\n",
        "client = genai.Client(api_key=GOOGLE_API_KEY)\n",
        "genai_model = \"gemini-2.0-flash\"\n",
        "\n",
        "# Memory for conversation\n",
        "conversation_history = []\n",
        "\n",
        "# Google Search setup\n",
        "os.environ[\"GOOGLE_CSE_ID\"] = \"GOOGLE_CSE_ID\"\n",
        "os.environ[\"GOOGLE_API_KEY\"] = \"GOOGLE_API_KEY\"\n",
        "\n",
        "search_wrapper = GoogleSearchAPIWrapper()\n"
      ],
      "metadata": {
        "id": "pbo9dXVe872U"
      },
      "execution_count": null,
      "outputs": []
    },
    {
      "cell_type": "code",
      "source": [
        "# Load credentials from service account\n",
        "SERVICE_ACCOUNT_FILE = \"3.json\"\n",
        "SCOPES = [\"https://www.googleapis.com/auth/calendar\"]\n",
        "\n",
        "creds = service_account.Credentials.from_service_account_file(\n",
        "    SERVICE_ACCOUNT_FILE, scopes=SCOPES\n",
        ")\n",
        "calendar_service = build(\"calendar\", \"v3\", credentials=creds)\n",
        "\n",
        "@tool\n",
        "def calendar_tool(query: str) -> str:\n",
        "    \"\"\"Creates a calendar event (currently fixed time).\"\"\"\n",
        "    event = {\n",
        "        \"summary\": \"AI Scheduled Meeting\",\n",
        "        \"start\": {\"dateTime\": \"2025-05-16T10:00:00+05:00\"},\n",
        "        \"end\": {\"dateTime\": \"2025-05-16T11:00:00+05:00\"},\n",
        "    }\n",
        "    try:\n",
        "        created_event = calendar_service.events().insert(calendarId=\"primary\", body=event).execute()\n",
        "        return f\"Calendar event created: {created_event.get('htmlLink')}\"\n",
        "    except Exception as e:\n",
        "        return f\"Error creating calendar event: {e}\"\n"
      ],
      "metadata": {
        "id": "5W0aRNwQ9Qpc"
      },
      "execution_count": null,
      "outputs": []
    },
    {
      "cell_type": "code",
      "source": [
        "def decide_tool(query: str) -> str:\n",
        "    prompt = f\"\"\"You are a smart router. Classify the query into one of these tools:\n",
        "1. 'calendar' if it's about scheduling\n",
        "2. 'search' for looking up information\n",
        "3. 'chat' for general conversation\n",
        "\n",
        "Query: \"{query}\"\n",
        "Answer with one word: calendar, search, or chat.\"\"\"\n",
        "\n",
        "    decision = client.models.generate_content(\n",
        "        model=genai_model,\n",
        "        contents=[types.Content(role=\"user\", parts=[types.Part(text=prompt)])]\n",
        "    )\n",
        "    return decision.candidates[0].content.parts[0].text.strip().lower()\n"
      ],
      "metadata": {
        "id": "v3fePvrk9cN3"
      },
      "execution_count": null,
      "outputs": []
    },
    {
      "cell_type": "code",
      "source": [
        "print(\"Chatbot with memory, search & calendar started! Type 'quit' to exit.\")\n",
        "\n",
        "while True:\n",
        "    user_input = input(\"You: \")\n",
        "    if user_input.lower() == \"quit\":\n",
        "        print(\"Goodbye!\")\n",
        "        break\n",
        "\n",
        "    # Append user message to memory\n",
        "    conversation_history.append(types.Content(role=\"user\", parts=[types.Part(text=user_input)]))\n",
        "\n",
        "    # Tool routing\n",
        "    tool_choice = decide_tool(user_input)\n",
        "\n",
        "    if tool_choice == \"search\":\n",
        "        print(\"[🔍 Using Google Search]\")\n",
        "        search_result = search_wrapper.run(user_input)\n",
        "        response_text = search_result\n",
        "    elif tool_choice == \"calendar\":\n",
        "        print(\"[📅 Using Google Calendar Tool]\")\n",
        "        response_text = calendar_tool.invoke(user_input)\n",
        "    else:\n",
        "        print(\"[💬 Chat Response]\")\n",
        "        response = client.models.generate_content(\n",
        "            model=genai_model,\n",
        "            contents=conversation_history\n",
        "        )\n",
        "        response_text = response.candidates[0].content.parts[0].text\n",
        "\n",
        "    # Show and store model response\n",
        "    display(Markdown(response_text))\n",
        "    conversation_history.append(types.Content(role=\"model\", parts=[types.Part(text=response_text)]))\n"
      ],
      "metadata": {
        "id": "uXdUBaN-9ngl"
      },
      "execution_count": null,
      "outputs": []
    }
  ]
}